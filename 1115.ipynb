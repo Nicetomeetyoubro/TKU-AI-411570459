{
  "nbformat": 4,
  "nbformat_minor": 0,
  "metadata": {
    "colab": {
      "provenance": [],
      "authorship_tag": "ABX9TyOyBFbw47Xz0PukLa6gwcAl",
      "include_colab_link": true
    },
    "kernelspec": {
      "name": "python3",
      "display_name": "Python 3"
    },
    "language_info": {
      "name": "python"
    }
  },
  "cells": [
    {
      "cell_type": "markdown",
      "metadata": {
        "id": "view-in-github",
        "colab_type": "text"
      },
      "source": [
        "<a href=\"https://colab.research.google.com/github/Nicetomeetyoubro/TKU-AI-411570459/blob/main/1115.ipynb\" target=\"_parent\"><img src=\"https://colab.research.google.com/assets/colab-badge.svg\" alt=\"Open In Colab\"/></a>"
      ]
    },
    {
      "cell_type": "code",
      "execution_count": 1,
      "metadata": {
        "colab": {
          "base_uri": "https://localhost:8080/"
        },
        "id": "AjJcr2UexGpZ",
        "outputId": "216d27e9-f33e-487c-e50a-83b21d52fe2a"
      },
      "outputs": [
        {
          "output_type": "stream",
          "name": "stdout",
          "text": [
            "hi，python\n"
          ]
        }
      ],
      "source": [
        "print(\"hi，python\")"
      ]
    },
    {
      "cell_type": "code",
      "source": [],
      "metadata": {
        "id": "yKTA3hSExQq2"
      },
      "execution_count": null,
      "outputs": []
    },
    {
      "cell_type": "markdown",
      "source": [
        "今天是11月15號"
      ],
      "metadata": {
        "id": "jtV8QfoXxZ4c"
      }
    },
    {
      "cell_type": "code",
      "source": [
        "print(\"今天是11月15號\")"
      ],
      "metadata": {
        "colab": {
          "base_uri": "https://localhost:8080/"
        },
        "id": "FgZ_PRfUxglL",
        "outputId": "dcfa3e98-c472-49c1-a44b-b09edb2917aa"
      },
      "execution_count": 2,
      "outputs": [
        {
          "output_type": "stream",
          "name": "stdout",
          "text": [
            "今天是11月15號\n"
          ]
        }
      ]
    },
    {
      "cell_type": "code",
      "source": [
        "print(\"許恭評，411570459\")"
      ],
      "metadata": {
        "colab": {
          "base_uri": "https://localhost:8080/"
        },
        "id": "M5unuYhzxrF7",
        "outputId": "e7a00de8-1e38-4ca2-8c9e-ab94a1f33b88"
      },
      "execution_count": 3,
      "outputs": [
        {
          "output_type": "stream",
          "name": "stdout",
          "text": [
            "許恭評，411570459\n"
          ]
        }
      ]
    },
    {
      "cell_type": "code",
      "source": [],
      "metadata": {
        "id": "ArJMNtHCxn8E"
      },
      "execution_count": null,
      "outputs": []
    }
  ]
}